{
 "cells": [
  {
   "cell_type": "code",
   "execution_count": null,
   "metadata": {},
   "outputs": [],
   "source": [
    "import numpy as np\n",
    "import matplotlib.pyplot as plt\n",
    "import sys\n",
    "import os\n",
    "\n",
    "from src.io_handler import RustMonteCarloData, perform_rust_computation, write_parameter_file"
   ]
  },
  {
   "cell_type": "markdown",
   "metadata": {},
   "source": [
    "## Perform Monte-Carlo calculation:"
   ]
  },
  {
   "cell_type": "markdown",
   "metadata": {},
   "source": [
    "Overview!!"
   ]
  },
  {
   "cell_type": "code",
   "execution_count": null,
   "metadata": {},
   "outputs": [],
   "source": [
    "try: \n",
    "    os.mkdir(\"results/overview\")\n",
    "except Exception as e:\n",
    "    print(f\"Cannot create dir: {e}\")"
   ]
  },
  {
   "cell_type": "code",
   "execution_count": null,
   "metadata": {},
   "outputs": [],
   "source": [
    "temperatures         = np.arange(1, 3, 0.05)\n",
    "lengths              = [8, 16, 32]#, 64, 128]\n",
    "thermalisation_steps = dict()\n",
    "measurement_steps    = dict()\n",
    "\n",
    "param_files = dict()\n",
    "out_files   = dict()\n",
    "\n",
    "for L in lengths:\n",
    "    if L <= 64:\n",
    "        thermalisation_steps[L] = np.uint(5e5)\n",
    "        measurement_steps[L]    = np.uint(5e5)\n",
    "    else:\n",
    "        thermalisation_steps[L] = np.uint(1e5)\n",
    "        measurement_steps[L]    = np.uint(1e5)\n",
    "            \n",
    "    param_files[L] = f\"results/overview/parameter_{L}x{L}.txt\"\n",
    "    out_files[L]   = f\"results/overview/out_{L}x{L}.txt\"\n",
    "        \n",
    "    write_parameter_file(param_files[L], out_files[L], L, L, thermalisation_steps[L], measurement_steps[L], temperatures)"
   ]
  },
  {
   "cell_type": "code",
   "execution_count": null,
   "metadata": {},
   "outputs": [],
   "source": [
    "for L in lengths:\n",
    "    # if L != 128:\n",
    "    perform_rust_computation(param_files[L])"
   ]
  },
  {
   "cell_type": "markdown",
   "metadata": {},
   "source": [
    "Load & plot from file:"
   ]
  },
  {
   "cell_type": "code",
   "execution_count": null,
   "metadata": {},
   "outputs": [],
   "source": [
    "my_lengths      = [8, 16, 32]#, 64, 128]\n",
    "results: dict[int, RustMonteCarloData] = dict()\n",
    "\n",
    "for L in my_lengths:\n",
    "    results[L] = RustMonteCarloData(f\"results/overview/out_{L}x{L}.txt\")\n",
    "\n",
    "    print(f\"elapsed time for size {L}x{L}: {results[L].elapsed_time/60:.3}min ({results[L].elapsed_time}s)\")\n",
    "\n",
    "print(\"Assert: all use the same temperatures.\")\n",
    "for res1 in results.values():\n",
    "    for res2 in results.values():\n",
    "        if res1 is not res2:\n",
    "            have_same_temp = np.all(res1.temperatures == res2.temperatures)\n",
    "            assert(have_same_temp)\n",
    "\n",
    "temps = results[lengths[0]].temperatures"
   ]
  },
  {
   "cell_type": "markdown",
   "metadata": {},
   "source": [
    "### Plot!"
   ]
  },
  {
   "cell_type": "code",
   "execution_count": null,
   "metadata": {},
   "outputs": [],
   "source": [
    "fig, ((ax1, ax2), (ax3, ax4)) = plt.subplots(2,2,figsize=(15,10))\n",
    "\n",
    "fig.suptitle(f\"2D Ising in Rust\", y=0.95, fontsize=20)\n",
    "for (L, result) in results.items():\n",
    "\n",
    "    ax1.scatter(temps, result.energy_density, s=15, marker= 'x', label=f\"{L}x{L}\")\n",
    "    ax1.plot(temps, result.energy_density)#, label=\"Rust\" )\n",
    "    ax1.set_title(f\"energy density vs temp, L={L}\")\n",
    "    ax1.legend(loc=\"upper left\",fontsize=14)\n",
    "\n",
    "    ax2.scatter(temps, result.magnetisation, s=15, marker= 'x', label=f\"{L}x{L}\")\n",
    "    ax2.plot(temps, result.magnetisation)#, label=\"Rust\")\n",
    "    ax2.set_title(f\"magnetization density vs temp, L={L}\")\n",
    "    ax2.legend(loc=\"upper right\",fontsize=14)\n",
    "\n",
    "    ax3.scatter(temps, result.specific_heat, s=15, marker= 'x', label=f\"{L}x{L}\")\n",
    "    ax3.plot(temps, result.specific_heat)#, label=\"Rust\")\n",
    "    ax3.set_title(f\"specific heat/spin vs temp, L={L}\")\n",
    "    ax3.legend(loc=\"upper left\",fontsize=14)\n",
    "\n",
    "    ax4.scatter(temps, result.mag_susceptibility, s=15, marker= 'x', label=f\"{L}x{L}\")\n",
    "    ax4.semilogy(temps, result.mag_susceptibility)\n",
    "    ax4.set_title(f\"magnetic susceptibility/spin vs temp, L={L}\")\n",
    "    ax4.legend(loc=\"upper left\",fontsize=14)"
   ]
  },
  {
   "cell_type": "code",
   "execution_count": null,
   "metadata": {},
   "outputs": [],
   "source": []
  }
 ],
 "metadata": {
  "kernelspec": {
   "display_name": "Python 3",
   "language": "python",
   "name": "python3"
  },
  "language_info": {
   "codemirror_mode": {
    "name": "ipython",
    "version": 3
   },
   "file_extension": ".py",
   "mimetype": "text/x-python",
   "name": "python",
   "nbconvert_exporter": "python",
   "pygments_lexer": "ipython3",
   "version": "3.13.2"
  }
 },
 "nbformat": 4,
 "nbformat_minor": 2
}
