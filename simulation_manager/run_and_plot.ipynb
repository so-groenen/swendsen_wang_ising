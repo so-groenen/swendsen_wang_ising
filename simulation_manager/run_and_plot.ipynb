{
 "cells": [
  {
   "cell_type": "code",
   "execution_count": null,
   "metadata": {},
   "outputs": [],
   "source": [
    "from python_simulation_manager.monte_carlo_ising_for_rust import RustIsingExperiment, RustIsingExperimentBuilder, IsingData\n",
    "import numpy as np\n",
    "import matplotlib.pyplot as plt\n",
    "from main import get_default_monte_carlo_parameters\n",
    "import fssa"
   ]
  },
  {
   "cell_type": "markdown",
   "metadata": {},
   "source": [
    "## Perform Monte-Carlo calculation:"
   ]
  },
  {
   "cell_type": "code",
   "execution_count": null,
   "metadata": {},
   "outputs": [],
   "source": [
    "rust_dir = \"../rust_simulation\"\n",
    "folder   = \"results\"\n",
    "name     = \"overview\"\n",
    "\n",
    "\n",
    "overview_builder = RustIsingExperimentBuilder(name=name, folder=folder, rust_dir=rust_dir)"
   ]
  },
  {
   "cell_type": "code",
   "execution_count": null,
   "metadata": {},
   "outputs": [],
   "source": [
    "temperatures    = np.arange(0.5, 4.5, 0.05)\n",
    "lengths         = [8, 16, 32, 64, 128]\n",
    "\n",
    "(therm_steps, measure_steps) = get_default_monte_carlo_parameters(lengths)\n",
    "\n",
    "overview = overview_builder.new_from_parameters(therm_steps=therm_steps, measure_steps=measure_steps, temperatures=temperatures, measure_struct_fact=False)\n",
    "\n",
    "if not overview.are_parameter_files_available():\n",
    "    overview.write_parameter_files() "
   ]
  },
  {
   "cell_type": "code",
   "execution_count": null,
   "metadata": {},
   "outputs": [],
   "source": [
    "print(f\"\\nLaunch the simulations: for {overview.get_lengths()}\")\n",
    "for L in overview.get_lengths():\n",
    "    if not overview.has_output(L):\n",
    "        overview.perform_rust_computation(L)"
   ]
  },
  {
   "cell_type": "markdown",
   "metadata": {},
   "source": [
    "### Load from file & Plot!"
   ]
  },
  {
   "cell_type": "code",
   "execution_count": null,
   "metadata": {},
   "outputs": [],
   "source": [
    "rust_dir  = \"../rust_simulation\"\n",
    "folder    = \"results\"\n",
    "name      = \"overview\"\n",
    "lengths   = [8, 16, 32, 64, 128]\n",
    "\n",
    "loader             = RustIsingExperimentBuilder(name=name, folder=folder, rust_dir=rust_dir)\n",
    "overview_from_file = loader.load(lengths=lengths)\n",
    "\n",
    "overview_results = overview_from_file.get_results()"
   ]
  },
  {
   "cell_type": "code",
   "execution_count": null,
   "metadata": {},
   "outputs": [],
   "source": [
    "fig, ((ax1, ax2), (ax3, ax4)) = plt.subplots(2,2,figsize=(15,10))\n",
    "\n",
    "ax1: plt.Axes = ax1\n",
    "fig.suptitle(f\"2D Ising using Swendsen-Wang\", y=0.95, fontsize=20)\n",
    "for (L, res) in overview_results.items():\n",
    "    res: IsingData\n",
    "    temps = res.temperatures\n",
    "    \n",
    "    ax1.scatter(temps, res.energy_density, s=15, marker= 'x', label=f\"{L}x{L}\")\n",
    "    ax1.plot(temps, res.energy_density)#, label=\"Rust\" )\n",
    "    ax1.set_title(f\"Energy density vs temp\", fontsize=16)\n",
    "    ax1.legend(loc=\"upper left\",fontsize=14)\n",
    "    # ax1.set_xlim((0.5,))\n",
    "    \n",
    "    ax2.scatter(temps, res.magnetisation, s=15, marker= 'x', label=f\"{L}x{L}\")\n",
    "    ax2.plot(temps, res.magnetisation)#, label=\"Rust\")\n",
    "    ax2.set_title(f\"Magnetization density vs temp\", fontsize=16)\n",
    "    ax2.legend(loc=\"upper right\",fontsize=14)\n",
    "\n",
    "    ax3.scatter(temps[1:], res.specific_heat[1:], s=15, marker= 'x', label=f\"{L}x{L}\")\n",
    "    ax3.plot(temps[1:], res.specific_heat[1:])#, label=\"Rust\")\n",
    "    ax3.set_title(f\"Specific heat/spin vs temp\", fontsize=16)\n",
    "    ax3.legend(loc=\"upper left\",fontsize=14)\n",
    "\n",
    "    ax4.scatter(temps, res.mag_susceptibility, s=15, marker= 'x', label=f\"{L}x{L}\")\n",
    "    ax4.semilogy(temps, res.mag_susceptibility)\n",
    "    ax4.set_title(f\"Magnetic susceptibility/spin vs temp\", fontsize=16)\n",
    "    ax4.legend(loc=\"lower right\",fontsize=14)"
   ]
  },
  {
   "cell_type": "markdown",
   "metadata": {},
   "source": [
    "# Close to the critical temperature:"
   ]
  },
  {
   "cell_type": "code",
   "execution_count": null,
   "metadata": {},
   "outputs": [],
   "source": [
    "rust_dir            = \"../rust_simulation\"\n",
    "folder              = \"results\"\n",
    "critical_experiment = \"critical_temp\"\n",
    "\n",
    "critical_builder = RustIsingExperimentBuilder(name=critical_experiment, folder=folder, rust_dir=rust_dir)"
   ]
  },
  {
   "cell_type": "code",
   "execution_count": null,
   "metadata": {},
   "outputs": [],
   "source": [
    "lengths_Tc = [8, 16, 32, 64, 128]\n",
    "\n",
    "temps_Tc1 = np.array([1.9 + i*0.02 for i in range(10)])\n",
    "temps_Tc2 = np.array([2.1 + i*0.01 for i in range(40)])\n",
    "temps_Tc3 = np.array([2.5 + i*0.02 for i in range(14)]) #8 cores\n",
    "temps_Tc  = np.concatenate((temps_Tc1, temps_Tc2, temps_Tc3))\n",
    "print(f\"For 8 cores: {len(temps_Tc)} temp values\")\n",
    "\n",
    "(therm_steps_Tc, measure_steps_Tc) = get_default_monte_carlo_parameters(lengths_Tc)\n",
    "\n",
    "\n",
    "critical_exp   = critical_builder.new_from_parameters(therm_steps=therm_steps_Tc, measure_steps=measure_steps_Tc,temperatures=temps_Tc, measure_struct_fact=True)\n",
    "if not critical_exp.are_parameter_files_available():\n",
    "    critical_exp.write_parameter_files()"
   ]
  },
  {
   "cell_type": "code",
   "execution_count": null,
   "metadata": {},
   "outputs": [],
   "source": [
    "for L in critical_exp.get_lengths():\n",
    "    if not critical_exp.has_output(L):\n",
    "        critical_exp.perform_rust_computation(L)"
   ]
  },
  {
   "cell_type": "markdown",
   "metadata": {},
   "source": [
    "# Load from file & plot"
   ]
  },
  {
   "cell_type": "code",
   "execution_count": null,
   "metadata": {},
   "outputs": [],
   "source": [
    "rust_dir            = \"../rust_simulation\"\n",
    "folder              = \"results\"\n",
    "critical_experiment = \"critical_temp\"\n",
    "\n",
    "critical_builder = RustIsingExperimentBuilder(name=critical_experiment, folder=folder, rust_dir=rust_dir)\n",
    "exp_critical     = critical_builder.load([8, 16, 32, 64, 128])\n",
    "critical_results = exp_critical.get_results()"
   ]
  },
  {
   "cell_type": "code",
   "execution_count": null,
   "metadata": {},
   "outputs": [],
   "source": [
    "plt.figure(figsize=(15,10))\n",
    "for (L, result) in critical_results.items():\n",
    "    result: IsingData\n",
    "    temps = result.temperatures\n",
    "\n",
    "    plt.scatter(temps, result.correlation_length/L, label=f\"{L}x{L}\")\n",
    "    plt.semilogy(temps, result.correlation_length/L)\n",
    "plt.legend()\n",
    "plt.show()"
   ]
  },
  {
   "cell_type": "code",
   "execution_count": null,
   "metadata": {},
   "outputs": [],
   "source": [
    "fig, ((ax1, ax2), (ax3, ax4)) = plt.subplots(2,2,figsize=(15,10))\n",
    "\n",
    "plt.subplots_adjust(hspace=0.3)\n",
    "\n",
    "\n",
    "fig.suptitle(f\"2D Ising using the Swendsen-Wang algorithm\", y=0.95, fontsize=20)\n",
    "for (L, result) in critical_results.items():\n",
    "    result: IsingData\n",
    "    temps = result.temperatures\n",
    "    \n",
    "    \n",
    "    ax1.scatter(temps, result.energy_density, s=15, marker= 'x', label=f\"N={L}x{L}\")\n",
    "    ax1.plot(temps, result.energy_density) \n",
    "    ax1.set_title(f\"Energy density vs temp\", fontsize=17)\n",
    "    ax1.legend(loc=\"upper left\",fontsize=13)\n",
    "    ax1.set_xlim(temps[0], temps[-1])\n",
    "    ax1.set_ylim(np.min(result.energy_density), 0.95*np.max(result.energy_density))\n",
    "    ax1.set_xlabel(r\"Temperature [$J/k_B$]\", fontsize=13)\n",
    "    ax1.set_ylabel(r\"Energy/spin [J]\", fontsize=13)\n",
    "\n",
    "    ax2.scatter(temps, result.magnetisation, s=15, marker= 'x', label=f\"N={L}x{L}\")\n",
    "    ax2.plot(temps, result.magnetisation) \n",
    "    ax2.set_title(f\"Magnetization\", fontsize=17)\n",
    "    ax2.legend(loc=\"lower left\", fontsize=13)\n",
    "    ax2.set_xlim(temps[0], temps[-1])\n",
    "    ax2.set_ylim(0,1)\n",
    "    ax2.set_xlabel(r\"Temperature [$J/k_B$]\", fontsize=13)\n",
    "    ax2.set_ylabel(r\"$|m|$\", fontsize=13)\n",
    "\n",
    "    ax3.scatter(temps, result.specific_heat, s=15, marker= 'x', label=f\"N={L}x{L}\")\n",
    "    ax3.plot(temps, result.specific_heat) \n",
    "    ax3.set_title(f\"Specific heat/Spin\", fontsize=17)\n",
    "    ax3.legend(loc=\"upper left\",fontsize=13)\n",
    "    ax3.set_xlim(temps[0], temps[-1])\n",
    "    ax3.set_ylim(np.min(result.specific_heat), 1.05*np.max(result.specific_heat))\n",
    "    ax3.set_xlabel(r\"Temperature [$J/k_B$]\", fontsize=13)\n",
    "    ax3.set_ylabel(r\"$C$\", fontsize=13)\n",
    "\n",
    "    ax4.scatter(temps, result.mag_susceptibility, s=15, marker= 'x', label=f\"N={L}x{L}\")\n",
    "    ax4.semilogy(temps, result.mag_susceptibility)\n",
    "    ax4.set_title(f\"Magnetic susceptibility/Spin\", fontsize=17)\n",
    "    ax4.legend(loc=\"upper left\",fontsize=13)\n",
    "    ax4.set_xlabel(r\"Temperature [$J/k_B$]\", fontsize=13)\n",
    "    ax4.set_ylabel(r\"$\\chi_M$\", fontsize=13)\n",
    "    ax4.set_xlim(temps[0], temps[-1])\n",
    "    ax4.set_ylim(np.min(result.mag_susceptibility), 1.5*np.max(result.mag_susceptibility))\n"
   ]
  },
  {
   "cell_type": "code",
   "execution_count": null,
   "metadata": {},
   "outputs": [],
   "source": [
    "lengths      = []\n",
    "mag_suscept  = []\n",
    "temps        = None\n",
    "for (L, res) in critical_results.items():\n",
    "    res: IsingData\n",
    "    if temps is None:\n",
    "        temps = res.temperatures\n",
    "    \n",
    "    lengths.append(L)\n",
    "    mag_suscept.append(res.mag_susceptibility)\n",
    "    \n",
    "lengths     = np.asarray(lengths)\n",
    "mag_suscept = np.asarray(mag_suscept)"
   ]
  },
  {
   "cell_type": "code",
   "execution_count": null,
   "metadata": {},
   "outputs": [],
   "source": [
    "nu    = 1\n",
    "zeta  = 1.75\n",
    "rho_c = 2.27\n",
    "a     = mag_suscept\n",
    "da    = a * 0.1\n",
    "ret   = fssa.autoscale(l=lengths, rho=temps, a=a, da=da, rho_c0=rho_c, nu0=1, zeta0=zeta)"
   ]
  },
  {
   "cell_type": "code",
   "execution_count": null,
   "metadata": {},
   "outputs": [],
   "source": [
    "ret"
   ]
  },
  {
   "cell_type": "code",
   "execution_count": null,
   "metadata": {},
   "outputs": [],
   "source": [
    "auto_scaled_data = fssa.scaledata(lengths, temps, a, da, ret.rho, ret.nu, ret.zeta)\n",
    "print(ret.rho, ret.drho)\n",
    "print(ret.nu, ret.dnu)\n",
    "print(ret.zeta, ret.dzeta)\n",
    "print(ret.fun)"
   ]
  },
  {
   "cell_type": "code",
   "execution_count": null,
   "metadata": {},
   "outputs": [],
   "source": [
    "\n",
    "fig, ax = plt.subplots(figsize=(12,7))\n",
    "plt.title(r\"Data collapse of the magnetic susceptibility: $\\nu={0:.3}$, $\\zeta={1:.3}1$\".format(ret.nu, ret.zeta),fontsize=17)\n",
    "# ax.set_prop_cycle(cycler('color', palette))\n",
    "max_y = 0\n",
    "for (n, length) in enumerate(lengths):\n",
    "    ax.scatter(auto_scaled_data.x[n], auto_scaled_data.y[n], label=f\"L={length}x{length}\", s=20, marker='x')\n",
    "\n",
    "    max_data = np.max(auto_scaled_data.y[n])\n",
    "    if max_data > max_y:\n",
    "        max_y = max_data\n",
    "  \n",
    "ax.set_xlabel(r'$L^{1/\\nu}(T-T_c)$')\n",
    "ax.set_ylabel(r'$L^{-\\zeta/{\\nu}}\\chi_M$')\n",
    "plt.vlines(0, 0, 1.1*max_y, colors='k', linestyles=':', label=r\"$T_c \\approx {0:.4}$\".format(ret.rho))\n",
    "plt.xlim(-5, 5)\n",
    "plt.ylim(0,1.1*max_y)\n",
    "plt.legend(fontsize=16)\n",
    "plt.show()"
   ]
  },
  {
   "cell_type": "markdown",
   "metadata": {},
   "source": [
    "# Lets go to bigger sizes:"
   ]
  },
  {
   "cell_type": "code",
   "execution_count": null,
   "metadata": {},
   "outputs": [],
   "source": [
    "rust_dir   = \"../rust_simulation\"\n",
    "folder     = \"results\"\n",
    "experiment = \"size_limit\"\n",
    "\n",
    "size_builder = RustIsingExperimentBuilder(name=experiment, folder=folder, rust_dir=rust_dir)"
   ]
  },
  {
   "cell_type": "code",
   "execution_count": null,
   "metadata": {},
   "outputs": [],
   "source": [
    "lengths      = [4, 8, 16, 32, 64, 128, 256, 512, 1024]\n",
    "temperatures = np.array([1.7 + i*0.02 for i in range(56)])\n",
    "\n",
    "(therm_steps_size, measure_steps_size) = get_default_monte_carlo_parameters(lengths)\n",
    "            \n",
    "size_exp = size_builder.new_from_parameters(therm_steps=therm_steps_size,measure_steps=measure_steps_size, temperatures=temperatures, measure_struct_fact=False)\n",
    "# if not size_exp.are_parameter_files_available():\n",
    "size_exp.write_parameter_files()"
   ]
  },
  {
   "cell_type": "code",
   "execution_count": null,
   "metadata": {},
   "outputs": [],
   "source": [
    "for L in size_exp.lengths:\n",
    "    size_exp.perform_rust_computation(L)"
   ]
  },
  {
   "cell_type": "markdown",
   "metadata": {},
   "source": [
    "## Load"
   ]
  },
  {
   "cell_type": "code",
   "execution_count": null,
   "metadata": {},
   "outputs": [],
   "source": [
    "rust_dir   = \"../rust_simulation\"\n",
    "folder     = \"results\"\n",
    "experiment = \"size_limit\"\n",
    "\n",
    "size_exp_builder = RustIsingExperimentBuilder(name=experiment, folder=folder, rust_dir=rust_dir)\n",
    "lengths          = [8, 16, 32, 64, 128, 256, 512, 1024]\n",
    "size_exp         = size_exp_builder.load(lengths)"
   ]
  },
  {
   "cell_type": "code",
   "execution_count": null,
   "metadata": {},
   "outputs": [],
   "source": [
    "size_results = size_exp.get_results()"
   ]
  },
  {
   "cell_type": "code",
   "execution_count": null,
   "metadata": {},
   "outputs": [],
   "source": [
    "# fig, ((ax1, ax2), (ax3, ax4)) = plt.subplots(2,2,figsize=(15,10))\n",
    "plt.figure(figsize=(15,10))\n",
    "plt.title(f\"2D Ising: Scaling\", y=0.95, fontsize=20)\n",
    "\n",
    "temps = None\n",
    "for (L, res) in size_results.items():\n",
    "    res: IsingData\n",
    "    if temps is None:\n",
    "        temps = res.temperatures\n",
    "\n",
    "    plt.plot(temps, res.magnetisation)\n",
    "    plt.scatter(temps, res.magnetisation, s=15, marker= 'x', label=f\"{L}x{L}\")\n",
    "plt.xlim(temps[0], temps[-1])\n",
    "plt.ylim(0,1)\n",
    "plt.xlabel(r\"Temperature [$J/k_B$]\", fontsize=13)\n",
    "plt.ylabel(r\"$|m|$\", fontsize=13)\n",
    "plt.legend(fontsize=16)"
   ]
  },
  {
   "cell_type": "code",
   "execution_count": null,
   "metadata": {},
   "outputs": [],
   "source": []
  }
 ],
 "metadata": {
  "kernelspec": {
   "display_name": "simulation-manager",
   "language": "python",
   "name": "python3"
  },
  "language_info": {
   "codemirror_mode": {
    "name": "ipython",
    "version": 3
   },
   "file_extension": ".py",
   "mimetype": "text/x-python",
   "name": "python",
   "nbconvert_exporter": "python",
   "pygments_lexer": "ipython3",
   "version": "3.13.2"
  }
 },
 "nbformat": 4,
 "nbformat_minor": 2
}
